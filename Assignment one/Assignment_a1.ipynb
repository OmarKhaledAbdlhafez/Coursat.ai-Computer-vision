{
  "nbformat": 4,
  "nbformat_minor": 0,
  "metadata": {
    "colab": {
      "name": "Assignment a1.ipynb",
      "provenance": [],
      "authorship_tag": "ABX9TyP/2K7u/wKzjLOpfo1UxgVm",
      "include_colab_link": true
    },
    "kernelspec": {
      "name": "python3",
      "display_name": "Python 3"
    }
  },
  "cells": [
    {
      "cell_type": "markdown",
      "metadata": {
        "id": "view-in-github",
        "colab_type": "text"
      },
      "source": [
        "<a href=\"https://colab.research.google.com/github/OmarKhaledAbdlhafez/Coursat.ai-Computer-vision/blob/master/Assignment_a1.ipynb\" target=\"_parent\"><img src=\"https://colab.research.google.com/assets/colab-badge.svg\" alt=\"Open In Colab\"/></a>"
      ]
    },
    {
      "cell_type": "code",
      "metadata": {
        "id": "jyK6W_A2BRWJ",
        "colab_type": "code",
        "colab": {}
      },
      "source": [
        "import numpy as np "
      ],
      "execution_count": 0,
      "outputs": []
    },
    {
      "cell_type": "markdown",
      "metadata": {
        "id": "PBvsHB-MPSmj",
        "colab_type": "text"
      },
      "source": [
        "# function to calculate the score for each row \n",
        "we pass x (the row of data repersent the question answer yes / no (0,1) ) then dot it wit normalized w  "
      ]
    },
    {
      "cell_type": "code",
      "metadata": {
        "id": "yzMNOfFnBmj9",
        "colab_type": "code",
        "colab": {}
      },
      "source": [
        "def get_score (x,w):\n",
        "  w=w.T\n",
        "  w_sum=np.sum(w,axis=0)\n",
        "  normalized_w= np.divide(w,w_sum)\n",
        "  out = np.dot(x,normalized_w)\n",
        "  if out > 0.5:\n",
        "    return 1\n",
        "  else :\n",
        "    return 0  "
      ],
      "execution_count": 0,
      "outputs": []
    },
    {
      "cell_type": "code",
      "metadata": {
        "id": "N2K234SKCgrE",
        "colab_type": "code",
        "colab": {
          "base_uri": "https://localhost:8080/",
          "height": 35
        },
        "outputId": "84fe02c5-207a-426b-d52c-7aea7eba46d8"
      },
      "source": [
        "x= np.array([[1,0,0,1,1],\n",
        "            [1,1,1,1,1]])\n",
        "w=np.array([5,6,7,9,5])\n",
        "out =[]\n",
        "for i in x: \n",
        "  out.append(get_score(i,w))\n",
        "print (out)  "
      ],
      "execution_count": 18,
      "outputs": [
        {
          "output_type": "stream",
          "text": [
            "[1, 1]\n"
          ],
          "name": "stdout"
        }
      ]
    }
  ]
}
