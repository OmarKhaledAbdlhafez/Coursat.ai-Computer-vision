{
  "nbformat": 4,
  "nbformat_minor": 0,
  "metadata": {
    "colab": {
      "name": "mnist with cnn.ipynb",
      "provenance": [],
      "collapsed_sections": [],
      "authorship_tag": "ABX9TyORDS+uGcmwiud/c6sfGOp1",
      "include_colab_link": true
    },
    "kernelspec": {
      "name": "python3",
      "display_name": "Python 3"
    }
  },
  "cells": [
    {
      "cell_type": "markdown",
      "metadata": {
        "id": "view-in-github",
        "colab_type": "text"
      },
      "source": [
        "<a href=\"https://colab.research.google.com/github/OmarKhaledAbdlhafez/Coursat.ai-Computer-vision/blob/master/Lecture4_Projects/mnist_with_cnn.ipynb\" target=\"_parent\"><img src=\"https://colab.research.google.com/assets/colab-badge.svg\" alt=\"Open In Colab\"/></a>"
      ]
    },
    {
      "cell_type": "code",
      "metadata": {
        "id": "cSz4SHeqGxTh",
        "colab_type": "code",
        "colab": {}
      },
      "source": [
        "from keras.datasets import mnist \n",
        "import numpy as np\n",
        "(x_train,y_train),(x_test,y_test)=mnist.load_data()"
      ],
      "execution_count": 0,
      "outputs": []
    },
    {
      "cell_type": "code",
      "metadata": {
        "id": "h2hUN1VGHCaZ",
        "colab_type": "code",
        "outputId": "d673f6f0-dafe-4d3d-f3ae-227766ea48a6",
        "colab": {
          "base_uri": "https://localhost:8080/",
          "height": 417
        }
      },
      "source": [
        "from tensorflow.keras.models import Sequential\n",
        "from tensorflow.keras.layers import Dense , Dropout, Conv2D ,MaxPooling2D ,Flatten\n",
        "model =Sequential()\n",
        "model.add(Conv2D(32,(3,3),input_shape=(28,28,1)))\n",
        "model.add(MaxPooling2D(pool_size=(2, 2)))\n",
        "model.add(Conv2D(64,(3,3)))\n",
        "model.add(MaxPooling2D(pool_size=(2, 2)))\n",
        "model.add(Flatten())\n",
        "model.add(Dense(512,'relu'))\n",
        "model.add(Dense(10,'softmax'))\n",
        "model.summary()"
      ],
      "execution_count": 19,
      "outputs": [
        {
          "output_type": "stream",
          "text": [
            "Model: \"sequential_2\"\n",
            "_________________________________________________________________\n",
            "Layer (type)                 Output Shape              Param #   \n",
            "=================================================================\n",
            "conv2d_4 (Conv2D)            (None, 26, 26, 32)        320       \n",
            "_________________________________________________________________\n",
            "max_pooling2d_4 (MaxPooling2 (None, 13, 13, 32)        0         \n",
            "_________________________________________________________________\n",
            "conv2d_5 (Conv2D)            (None, 11, 11, 64)        18496     \n",
            "_________________________________________________________________\n",
            "max_pooling2d_5 (MaxPooling2 (None, 5, 5, 64)          0         \n",
            "_________________________________________________________________\n",
            "flatten_1 (Flatten)          (None, 1600)              0         \n",
            "_________________________________________________________________\n",
            "dense_4 (Dense)              (None, 512)               819712    \n",
            "_________________________________________________________________\n",
            "dense_5 (Dense)              (None, 10)                5130      \n",
            "=================================================================\n",
            "Total params: 843,658\n",
            "Trainable params: 843,658\n",
            "Non-trainable params: 0\n",
            "_________________________________________________________________\n"
          ],
          "name": "stdout"
        }
      ]
    },
    {
      "cell_type": "code",
      "metadata": {
        "id": "SFYm1vvBIxvs",
        "colab_type": "code",
        "colab": {}
      },
      "source": [
        "model.compile(optimizer='adam',loss='sparse_categorical_crossentropy',metrics=['acc'])"
      ],
      "execution_count": 0,
      "outputs": []
    },
    {
      "cell_type": "code",
      "metadata": {
        "id": "HKhavn2pNIhg",
        "colab_type": "code",
        "colab": {}
      },
      "source": [
        "x_train =np.expand_dims(x_train,axis=0)\n",
        "x_train = np.transpose(x_train,(1,2,3,0))\n",
        "x_test =np.expand_dims(x_test,axis=0)\n",
        "x_test = np.transpose(x_test,(1,2,3,0))\n"
      ],
      "execution_count": 0,
      "outputs": []
    },
    {
      "cell_type": "code",
      "metadata": {
        "id": "zR3d9F41NMzF",
        "colab_type": "code",
        "outputId": "1d7c6cbd-4881-45dd-8e93-3f2799510329",
        "colab": {
          "base_uri": "https://localhost:8080/",
          "height": 35
        }
      },
      "source": [
        "x_test.shape"
      ],
      "execution_count": 22,
      "outputs": [
        {
          "output_type": "execute_result",
          "data": {
            "text/plain": [
              "(10000, 28, 28, 1)"
            ]
          },
          "metadata": {
            "tags": []
          },
          "execution_count": 22
        }
      ]
    },
    {
      "cell_type": "code",
      "metadata": {
        "id": "eyYU6iq-NwCP",
        "colab_type": "code",
        "outputId": "d4530fd2-6785-4488-8e18-490fa57c0084",
        "colab": {
          "base_uri": "https://localhost:8080/",
          "height": 763
        }
      },
      "source": [
        "from keras.preprocessing.image import ImageDataGenerator\n",
        "datagen = ImageDataGenerator(rescale =1./255)\n",
        "train = datagen.flow(x_train , y_train , batch_size =32)\n",
        "test = datagen.flow(x_test, y_test ,batch_size =32)\n",
        "model.fit_generator(train ,steps_per_epoch=1875,epochs=20,validation_data=test,validation_steps=313)"
      ],
      "execution_count": 23,
      "outputs": [
        {
          "output_type": "stream",
          "text": [
            "Epoch 1/20\n",
            "1875/1875 [==============================] - 63s 34ms/step - loss: 0.1109 - acc: 0.9665 - val_loss: 0.0429 - val_acc: 0.9860\n",
            "Epoch 2/20\n",
            "1875/1875 [==============================] - 63s 34ms/step - loss: 0.0393 - acc: 0.9877 - val_loss: 0.0428 - val_acc: 0.9872\n",
            "Epoch 3/20\n",
            "1875/1875 [==============================] - 63s 33ms/step - loss: 0.0269 - acc: 0.9912 - val_loss: 0.0619 - val_acc: 0.9820\n",
            "Epoch 4/20\n",
            "1875/1875 [==============================] - 63s 33ms/step - loss: 0.0216 - acc: 0.9932 - val_loss: 0.0448 - val_acc: 0.9880\n",
            "Epoch 5/20\n",
            "1875/1875 [==============================] - 63s 33ms/step - loss: 0.0159 - acc: 0.9951 - val_loss: 0.0444 - val_acc: 0.9892\n",
            "Epoch 6/20\n",
            "1875/1875 [==============================] - 63s 33ms/step - loss: 0.0135 - acc: 0.9959 - val_loss: 0.0478 - val_acc: 0.9901\n",
            "Epoch 7/20\n",
            "1875/1875 [==============================] - 63s 34ms/step - loss: 0.0126 - acc: 0.9962 - val_loss: 0.0577 - val_acc: 0.9881\n",
            "Epoch 8/20\n",
            "1875/1875 [==============================] - 63s 33ms/step - loss: 0.0133 - acc: 0.9963 - val_loss: 0.0739 - val_acc: 0.9859\n",
            "Epoch 9/20\n",
            "1875/1875 [==============================] - 62s 33ms/step - loss: 0.0118 - acc: 0.9968 - val_loss: 0.0634 - val_acc: 0.9893\n",
            "Epoch 10/20\n",
            "1875/1875 [==============================] - 62s 33ms/step - loss: 0.0110 - acc: 0.9970 - val_loss: 0.0547 - val_acc: 0.9906\n",
            "Epoch 11/20\n",
            "1875/1875 [==============================] - 62s 33ms/step - loss: 0.0104 - acc: 0.9971 - val_loss: 0.0684 - val_acc: 0.9879\n",
            "Epoch 12/20\n",
            "1875/1875 [==============================] - 63s 34ms/step - loss: 0.0096 - acc: 0.9974 - val_loss: 0.0765 - val_acc: 0.9901\n",
            "Epoch 13/20\n",
            "1875/1875 [==============================] - 63s 33ms/step - loss: 0.0086 - acc: 0.9977 - val_loss: 0.0873 - val_acc: 0.9888\n",
            "Epoch 14/20\n",
            "1875/1875 [==============================] - 63s 33ms/step - loss: 0.0101 - acc: 0.9975 - val_loss: 0.0977 - val_acc: 0.9867\n",
            "Epoch 15/20\n",
            "1875/1875 [==============================] - 63s 33ms/step - loss: 0.0110 - acc: 0.9976 - val_loss: 0.1189 - val_acc: 0.9874\n",
            "Epoch 16/20\n",
            "1875/1875 [==============================] - 63s 34ms/step - loss: 0.0077 - acc: 0.9980 - val_loss: 0.0891 - val_acc: 0.9902\n",
            "Epoch 17/20\n",
            "1875/1875 [==============================] - 63s 34ms/step - loss: 0.0096 - acc: 0.9980 - val_loss: 0.0985 - val_acc: 0.9891\n",
            "Epoch 18/20\n",
            "1875/1875 [==============================] - 67s 36ms/step - loss: 0.0085 - acc: 0.9981 - val_loss: 0.1316 - val_acc: 0.9882\n",
            "Epoch 19/20\n",
            "1875/1875 [==============================] - 63s 34ms/step - loss: 0.0117 - acc: 0.9979 - val_loss: 0.1123 - val_acc: 0.9886\n",
            "Epoch 20/20\n",
            "1875/1875 [==============================] - 63s 34ms/step - loss: 0.0104 - acc: 0.9980 - val_loss: 0.1097 - val_acc: 0.9893\n"
          ],
          "name": "stdout"
        },
        {
          "output_type": "execute_result",
          "data": {
            "text/plain": [
              "<tensorflow.python.keras.callbacks.History at 0x7f0a25f1a748>"
            ]
          },
          "metadata": {
            "tags": []
          },
          "execution_count": 23
        }
      ]
    }
  ]
}