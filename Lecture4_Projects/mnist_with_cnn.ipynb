{
  "nbformat": 4,
  "nbformat_minor": 0,
  "metadata": {
    "colab": {
      "name": "mnist with cnn.ipynb",
      "provenance": [],
      "collapsed_sections": [],
      "authorship_tag": "ABX9TyPwxpNXBszmXbW4b5NL8wSN",
      "include_colab_link": true
    },
    "kernelspec": {
      "name": "python3",
      "display_name": "Python 3"
    },
    "accelerator": "GPU"
  },
  "cells": [
    {
      "cell_type": "markdown",
      "metadata": {
        "id": "view-in-github",
        "colab_type": "text"
      },
      "source": [
        "<a href=\"https://colab.research.google.com/github/OmarKhaledAbdlhafez/Coursat.ai-Computer-vision/blob/master/Lecture4_Projects/mnist_with_cnn.ipynb\" target=\"_parent\"><img src=\"https://colab.research.google.com/assets/colab-badge.svg\" alt=\"Open In Colab\"/></a>"
      ]
    },
    {
      "cell_type": "code",
      "metadata": {
        "id": "cSz4SHeqGxTh",
        "colab_type": "code",
        "colab": {
          "base_uri": "https://localhost:8080/",
          "height": 72
        },
        "outputId": "69c2becd-5e42-4b27-f60d-e7b662a9ea46"
      },
      "source": [
        "from keras.datasets import mnist \n",
        "import numpy as np\n",
        "(x_train,y_train),(x_test,y_test)=mnist.load_data()"
      ],
      "execution_count": 1,
      "outputs": [
        {
          "output_type": "stream",
          "text": [
            "Using TensorFlow backend.\n"
          ],
          "name": "stderr"
        },
        {
          "output_type": "stream",
          "text": [
            "Downloading data from https://s3.amazonaws.com/img-datasets/mnist.npz\n",
            "11493376/11490434 [==============================] - 2s 0us/step\n"
          ],
          "name": "stdout"
        }
      ]
    },
    {
      "cell_type": "code",
      "metadata": {
        "id": "h2hUN1VGHCaZ",
        "colab_type": "code",
        "outputId": "fd7170d2-d66c-4ff5-9e2a-f9264dad47d4",
        "colab": {
          "base_uri": "https://localhost:8080/",
          "height": 417
        }
      },
      "source": [
        "from tensorflow.keras.models import Sequential\n",
        "from tensorflow.keras.layers import Dense , Dropout, Conv2D ,MaxPooling2D ,Flatten\n",
        "model =Sequential()\n",
        "model.add(Conv2D(32,(3,3),activation='relu',input_shape=(28,28,1)))\n",
        "model.add(MaxPooling2D(pool_size=(2, 2)))\n",
        "model.add(Conv2D(64,(3,3),activation='relu'))\n",
        "model.add(MaxPooling2D(pool_size=(2, 2)))\n",
        "model.add(Flatten())\n",
        "model.add(Dense(512,'relu'))\n",
        "model.add(Dense(10,'softmax'))\n",
        "model.summary()"
      ],
      "execution_count": 2,
      "outputs": [
        {
          "output_type": "stream",
          "text": [
            "Model: \"sequential\"\n",
            "_________________________________________________________________\n",
            "Layer (type)                 Output Shape              Param #   \n",
            "=================================================================\n",
            "conv2d (Conv2D)              (None, 26, 26, 32)        320       \n",
            "_________________________________________________________________\n",
            "max_pooling2d (MaxPooling2D) (None, 13, 13, 32)        0         \n",
            "_________________________________________________________________\n",
            "conv2d_1 (Conv2D)            (None, 11, 11, 64)        18496     \n",
            "_________________________________________________________________\n",
            "max_pooling2d_1 (MaxPooling2 (None, 5, 5, 64)          0         \n",
            "_________________________________________________________________\n",
            "flatten (Flatten)            (None, 1600)              0         \n",
            "_________________________________________________________________\n",
            "dense (Dense)                (None, 512)               819712    \n",
            "_________________________________________________________________\n",
            "dense_1 (Dense)              (None, 10)                5130      \n",
            "=================================================================\n",
            "Total params: 843,658\n",
            "Trainable params: 843,658\n",
            "Non-trainable params: 0\n",
            "_________________________________________________________________\n"
          ],
          "name": "stdout"
        }
      ]
    },
    {
      "cell_type": "code",
      "metadata": {
        "id": "SFYm1vvBIxvs",
        "colab_type": "code",
        "colab": {}
      },
      "source": [
        "model.compile(optimizer='adam',loss='sparse_categorical_crossentropy',metrics=['acc'])"
      ],
      "execution_count": 0,
      "outputs": []
    },
    {
      "cell_type": "code",
      "metadata": {
        "id": "HKhavn2pNIhg",
        "colab_type": "code",
        "colab": {}
      },
      "source": [
        "x_train =np.expand_dims(x_train,axis=0)\n",
        "x_train = np.transpose(x_train,(1,2,3,0))\n",
        "x_test =np.expand_dims(x_test,axis=0)\n",
        "x_test = np.transpose(x_test,(1,2,3,0))\n"
      ],
      "execution_count": 0,
      "outputs": []
    },
    {
      "cell_type": "code",
      "metadata": {
        "id": "zR3d9F41NMzF",
        "colab_type": "code",
        "outputId": "107db510-d3b0-49b0-e567-aa09b42d0ce7",
        "colab": {
          "base_uri": "https://localhost:8080/",
          "height": 35
        }
      },
      "source": [
        "x_test.shape"
      ],
      "execution_count": 5,
      "outputs": [
        {
          "output_type": "execute_result",
          "data": {
            "text/plain": [
              "(10000, 28, 28, 1)"
            ]
          },
          "metadata": {
            "tags": []
          },
          "execution_count": 5
        }
      ]
    },
    {
      "cell_type": "code",
      "metadata": {
        "id": "eyYU6iq-NwCP",
        "colab_type": "code",
        "outputId": "bae2e26b-9ab6-4c02-d2c8-8f036aee6aeb",
        "colab": {
          "base_uri": "https://localhost:8080/",
          "height": 837
        }
      },
      "source": [
        "from keras.preprocessing.image import ImageDataGenerator\n",
        "datagen = ImageDataGenerator(rescale =1./255)\n",
        "train = datagen.flow(x_train , y_train , batch_size =32)\n",
        "test = datagen.flow(x_test, y_test ,batch_size =32)\n",
        "model.fit_generator(train ,steps_per_epoch=1875,epochs=20,validation_data=test,validation_steps=313)"
      ],
      "execution_count": 6,
      "outputs": [
        {
          "output_type": "stream",
          "text": [
            "WARNING:tensorflow:From <ipython-input-6-b4d2439f7799>:5: Model.fit_generator (from tensorflow.python.keras.engine.training) is deprecated and will be removed in a future version.\n",
            "Instructions for updating:\n",
            "Please use Model.fit, which supports generators.\n",
            "Epoch 1/20\n",
            "1875/1875 [==============================] - 13s 7ms/step - loss: 0.1105 - acc: 0.9662 - val_loss: 0.0412 - val_acc: 0.9862\n",
            "Epoch 2/20\n",
            "1875/1875 [==============================] - 13s 7ms/step - loss: 0.0384 - acc: 0.9877 - val_loss: 0.0321 - val_acc: 0.9896\n",
            "Epoch 3/20\n",
            "1875/1875 [==============================] - 13s 7ms/step - loss: 0.0248 - acc: 0.9917 - val_loss: 0.0291 - val_acc: 0.9898\n",
            "Epoch 4/20\n",
            "1875/1875 [==============================] - 13s 7ms/step - loss: 0.0186 - acc: 0.9941 - val_loss: 0.0381 - val_acc: 0.9875\n",
            "Epoch 5/20\n",
            "1875/1875 [==============================] - 13s 7ms/step - loss: 0.0129 - acc: 0.9957 - val_loss: 0.0309 - val_acc: 0.9927\n",
            "Epoch 6/20\n",
            "1875/1875 [==============================] - 13s 7ms/step - loss: 0.0108 - acc: 0.9967 - val_loss: 0.0301 - val_acc: 0.9922\n",
            "Epoch 7/20\n",
            "1875/1875 [==============================] - 13s 7ms/step - loss: 0.0075 - acc: 0.9975 - val_loss: 0.0361 - val_acc: 0.9915\n",
            "Epoch 8/20\n",
            "1875/1875 [==============================] - 12s 7ms/step - loss: 0.0079 - acc: 0.9975 - val_loss: 0.0239 - val_acc: 0.9937\n",
            "Epoch 9/20\n",
            "1875/1875 [==============================] - 13s 7ms/step - loss: 0.0061 - acc: 0.9979 - val_loss: 0.0322 - val_acc: 0.9919\n",
            "Epoch 10/20\n",
            "1875/1875 [==============================] - 13s 7ms/step - loss: 0.0062 - acc: 0.9980 - val_loss: 0.0384 - val_acc: 0.9909\n",
            "Epoch 11/20\n",
            "1875/1875 [==============================] - 13s 7ms/step - loss: 0.0040 - acc: 0.9987 - val_loss: 0.0330 - val_acc: 0.9927\n",
            "Epoch 12/20\n",
            "1875/1875 [==============================] - 13s 7ms/step - loss: 0.0061 - acc: 0.9983 - val_loss: 0.0448 - val_acc: 0.9897\n",
            "Epoch 13/20\n",
            "1875/1875 [==============================] - 13s 7ms/step - loss: 0.0045 - acc: 0.9987 - val_loss: 0.0480 - val_acc: 0.9906\n",
            "Epoch 14/20\n",
            "1875/1875 [==============================] - 13s 7ms/step - loss: 0.0046 - acc: 0.9985 - val_loss: 0.0450 - val_acc: 0.9914\n",
            "Epoch 15/20\n",
            "1875/1875 [==============================] - 13s 7ms/step - loss: 0.0034 - acc: 0.9992 - val_loss: 0.0475 - val_acc: 0.9909\n",
            "Epoch 16/20\n",
            "1875/1875 [==============================] - 13s 7ms/step - loss: 0.0048 - acc: 0.9987 - val_loss: 0.0366 - val_acc: 0.9929\n",
            "Epoch 17/20\n",
            "1875/1875 [==============================] - 13s 7ms/step - loss: 0.0030 - acc: 0.9991 - val_loss: 0.0550 - val_acc: 0.9909\n",
            "Epoch 18/20\n",
            "1875/1875 [==============================] - 13s 7ms/step - loss: 0.0049 - acc: 0.9986 - val_loss: 0.0417 - val_acc: 0.9918\n",
            "Epoch 19/20\n",
            "1875/1875 [==============================] - 13s 7ms/step - loss: 0.0023 - acc: 0.9993 - val_loss: 0.0621 - val_acc: 0.9904\n",
            "Epoch 20/20\n",
            "1875/1875 [==============================] - 12s 7ms/step - loss: 0.0044 - acc: 0.9987 - val_loss: 0.0448 - val_acc: 0.9925\n"
          ],
          "name": "stdout"
        },
        {
          "output_type": "execute_result",
          "data": {
            "text/plain": [
              "<tensorflow.python.keras.callbacks.History at 0x7f9f20420080>"
            ]
          },
          "metadata": {
            "tags": []
          },
          "execution_count": 6
        }
      ]
    }
  ]
}